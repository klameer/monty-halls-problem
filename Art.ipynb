{
 "cells": [
  {
   "cell_type": "code",
   "execution_count": 2,
   "metadata": {},
   "outputs": [],
   "source": [
    "import turtle\n",
    "s = turtle.getscreen()\n",
    "t = turtle.Turtle()"
   ]
  },
  {
   "cell_type": "code",
   "execution_count": 147,
   "metadata": {},
   "outputs": [],
   "source": [
    "# Functions   \n",
    "def draw_door(t, x=0, y=0, scale=1, color='blue', text='', style=('Georgia', 10, 'bold')):\n",
    "    t.penup()\n",
    "    t.goto(x, y)\n",
    "    t.pendown()\n",
    "    t.pensize(2)\n",
    "    t.forward(50 * scale)\n",
    "    t.left(90)\n",
    "\n",
    "    #knob\n",
    "    t.forward(40 * scale)\n",
    "    t.left(90)\n",
    "    t.forward(10 * scale)\n",
    "    t.right(90)\n",
    "    t.fillcolor(color)\n",
    "    t.begin_fill()\n",
    "    t.circle(5 * scale)\n",
    "    t.end_fill()\n",
    "    t.left(90)\n",
    "    t.backward(10 * scale)\n",
    "\n",
    "    t.right(90)\n",
    "    t.forward(40 * scale)\n",
    "    t.left(90)\n",
    "    t.forward(50 * scale)\n",
    "    t.left(90)\n",
    "    t.forward(80 * scale)\n",
    "    t.left(90)\n",
    "    t.penup()\n",
    "    t.forward(10)\n",
    "    t.left(90)\n",
    "    t.forward(50 * scale)\n",
    "\n",
    "    t.write(text, font=style)\n",
    "    #t.hideturtle()\n",
    "    t.home()\n",
    "\n",
    "\n",
    "# Draw Guy\n",
    "def draw_guy(t, x=0, y=0, scale=1, color='blue', text='', style=('Georgia', 10, 'bold')):\n",
    "    #t.reset()\n",
    "    t.penup()\n",
    "    t.goto(x, y)\n",
    "    t.pendown()\n",
    "    t.pensize(2)\n",
    "    t.right(90)\n",
    "    t.forward(20 * scale)\n",
    "    t.left(45)\n",
    "    t.forward(10 * scale)\n",
    "    t.backward(10 * scale)\n",
    "    t.right(45)\n",
    "    t.right(45)\n",
    "    t.forward(10 * scale)\n",
    "    t.backward(10 * scale)\n",
    "    t.left(45)\n",
    "    t.backward(15 * scale)\n",
    "    t.left(45)\n",
    "    t.forward(10 * scale)\n",
    "    t.backward(10 * scale)\n",
    "    t.left(90)\n",
    "    t.backward(10 * scale)\n",
    "    t.forward(10 * scale)\n",
    "    t.left(45)\n",
    "    t.forward(5 * scale)\n",
    "    t.fillcolor(color)\n",
    "    t.right(90)\n",
    "    t.begin_fill()\n",
    "    t.circle(10 * scale)\n",
    "    t.end_fill()\n",
    "    t.penup()\n",
    "    t.forward(10 * scale)\n",
    "    t.left(90)\n",
    "    t.forward(10 * scale)\n",
    "    t.pendown()\n",
    "    t.write(text, font=style)\n",
    "    #t.hideturtle()\n"
   ]
  },
  {
   "cell_type": "code",
   "execution_count": 154,
   "metadata": {},
   "outputs": [
    {
     "data": {
      "text/plain": [
       "'/Georgia-Bold findfont 30 scalefont ISOEncode setfont\\n0.000 0.000 0.000 setrgbcolor AdjustColor\\n0 79 314 [\\n[(?)]\\n] 46 -0 1 0 false DrawText\\n'"
      ]
     },
     "execution_count": 154,
     "metadata": {},
     "output_type": "execute_result"
    }
   ],
   "source": [
    "t.reset()\n",
    "t.speed('fastest')\n",
    "\n",
    "style=('Georgia', 30, 'bold')\n",
    "draw_door(t, x=-200, y=100, scale=2, color='red', style=style, text='   a')\n",
    "draw_door(t, x=0, y=100, scale=2, color='yellow', style=style, text='   b')\n",
    "draw_door(t, x=200, y=100, scale=2, color='green', style=style, text='   c')\n",
    "\n",
    "draw_guy(t, x=50, y=0, scale=3, style=style, text='?')\n",
    "t.hideturtle()\n",
    "\n",
    "s.getcanvas().postscript(file='montyhalls.eps')"
   ]
  }
 ],
 "metadata": {
  "kernelspec": {
   "display_name": "Python 3",
   "language": "python",
   "name": "python3"
  },
  "language_info": {
   "codemirror_mode": {
    "name": "ipython",
    "version": 3
   },
   "file_extension": ".py",
   "mimetype": "text/x-python",
   "name": "python",
   "nbconvert_exporter": "python",
   "pygments_lexer": "ipython3",
   "version": "3.7.0"
  }
 },
 "nbformat": 4,
 "nbformat_minor": 2
}
